{
 "cells": [
  {
   "cell_type": "code",
   "execution_count": 136,
   "metadata": {},
   "outputs": [],
   "source": [
    "import nevergrad as ng\n",
    "import numpy as np\n",
    "import DamageModel as dm\n",
    "import time\n",
    "import pandas as pd\n",
    "from scipy.misc import derivative\n",
    "import statistics as st\n",
    "import json\n",
    "listofList=[]"
   ]
  },
  {
   "cell_type": "code",
   "execution_count": 160,
   "metadata": {},
   "outputs": [],
   "source": [
    "\n",
    "def partial_derivative(func, var=0, point=[]):\n",
    "    args = point[:]\n",
    "    def wraps(x):\n",
    "        args[var] = x\n",
    "        return func(*args)\n",
    "    return derivative(wraps, point[var], dx = 1e-9)\n",
    "\n",
    "\n",
    "    #human object\n",
    "def Candidate(basal_M,basal_sd,exp_m,exp_sd,basal_homo,exp_homo,shape_death,target):\n",
    "    smodel=dm.Human(basal_M,basal_sd,exp_m,exp_sd,basal_homo,exp_homo,shape_death)\n",
    "        #to loop through later on\n",
    "    ageAtDeath=[]\n",
    "\n",
    "    \n",
    "    batch_size=500\n",
    "    #loop to create deaths and generate a simulation\n",
    "    for i in range(1,batch_size):\n",
    "        while smodel.isDead==False and smodel.age<115:\n",
    "            smodel.updateMecDamage()\n",
    "            smodel.updateCatDamage()\n",
    "            smodel.updateAllDamage()\n",
    "            smodel.isDeadC(smodel.maxDamage)\n",
    "            #print(smodel.age)\n",
    "        ageAtDeath.append(smodel.age)\n",
    "            #just reset all parameters once you're dead\n",
    "        smodel.reborn()\n",
    "     #pick the list of ages at death and create a panda series that count number of times\n",
    "     # each value appears and divide by batch_size\n",
    "    DeathCurve = pd.Series(ageAtDeath).value_counts(sort=False)/batch_size\n",
    "    #cost function is sum of square\n",
    "    costF=DeathCurve.cumsum()-SocialSecurity[keycolumn][:116].cumsum()\n",
    "    costF=np.square(costF.fillna(0)).sum()\n",
    "    return costF\n",
    "\n",
    "#yes it is recopyng a function an DRY\n",
    "def Candidate2(basal_M,basal_sd,exp_m,exp_sd,basal_homo,exp_homo,shape_death,target):\n",
    "    smodel=dm.Human(basal_M,basal_sd,exp_m,exp_sd,basal_homo,exp_homo,shape_death)\n",
    "        #to loop through later on\n",
    "    ageAtDeath=[]\n",
    "\n",
    "    \n",
    "    batch_size=250\n",
    "    #loop to create deaths and generate a simulation\n",
    "    for i in range(1,batch_size):\n",
    "        while smodel.isDead==False and smodel.age<115:\n",
    "            smodel.updateMecDamage()\n",
    "            smodel.updateCatDamage()\n",
    "            smodel.updateAllDamage()\n",
    "            smodel.isDeadC(smodel.maxDamage)\n",
    "            #print(smodel.age)\n",
    "        ageAtDeath.append(smodel.age)\n",
    "            #just reset all parameters once you're dead\n",
    "        smodel.reborn()\n",
    "     #pick the list of ages at death and create a panda series that count number of times\n",
    "     # each value appears and divide by batch_size\n",
    "    DeathCurve = pd.Series(ageAtDeath).value_counts(sort=False)/batch_size\n",
    "        #cost function is sum of square\n",
    "    costF=DeathCurve.cumsum()-SocialSecurity[keycolumn][:116].cumsum()\n",
    "    costF=np.square(costF.fillna(0)).sum()\n",
    "    return costF,ageAtDeath\n",
    "\n"
   ]
  },
  {
   "cell_type": "code",
   "execution_count": 5,
   "metadata": {},
   "outputs": [
    {
     "name": "stdout",
     "output_type": "stream",
     "text": [
      "1.5900328159332275\n"
     ]
    }
   ],
   "source": [
    "#social security table\n",
    "path= '/Users/gabounet/SensModel/SS2015.csv'\n",
    "#the column of Qx values for male in Social security 2015\n",
    "keycolumn='Pb_Male'\n",
    "#social security table of 2015 for male and female\n",
    "SocialSecurity=pd.read_csv(path, engine='python')\n",
    "\n",
    "costFunctionList=[]\n",
    "# paramDict={}\n",
    "# paramDict['basal_M']={'value':-12,'deriv':0}\n",
    "# paramDict['basal_sd']={'value':1,'deriv':0}\n",
    "# paramDict['exp_m']={'value':-12.5,'deriv':0}\n",
    "# paramDict['exp_sd']={'value':1.5,'deriv':0}\n",
    "# paramDict['basal_homo']={'value':0.3,'deriv':0}\n",
    "# paramDict['exp_homo']={'value':0.3,'deriv':0}\n",
    "# paramDict['shape_death']={'value':-2,'deriv':0}\n",
    "\n",
    "#dummy parameters:\n",
    "basal_M=paramDict['basal_M']['value']\n",
    "basal_sd=paramDict['basal_sd']['value']\n",
    "exp_m=paramDict['basal_M']['value']\n",
    "exp_sd=paramDict['exp_sd']['value']\n",
    "basal_homo=paramDict['basal_homo']['value']\n",
    "exp_homo=paramDict['exp_homo']['value']\n",
    "shape_death=paramDict['shape_death']['value']\n",
    "\n",
    "\n",
    "start_time = time.time()\n",
    "result=Candidate(basal_M,basal_sd,exp_m,exp_sd,basal_homo,exp_homo,shape_death,SocialSecurity[keycolumn])\n",
    "costFunctionList.append(result)\n",
    "\n",
    "\n",
    "print(time.time()-start_time)"
   ]
  },
  {
   "cell_type": "code",
   "execution_count": 104,
   "metadata": {},
   "outputs": [
    {
     "name": "stdout",
     "output_type": "stream",
     "text": [
      "13.756794214248657\n"
     ]
    }
   ],
   "source": [
    "z=time.time()\n",
    "target=SocialSecurity[keycolumn]\n",
    "costFunctionList=[]\n",
    "\n",
    "basal_M=paramDict['basal_M']['value']\n",
    "basal_sd=paramDict['basal_sd']['value']\n",
    "exp_m=paramDict['basal_M']['value']\n",
    "exp_sd=paramDict['exp_sd']['value']\n",
    "basal_homo=paramDict['basal_homo']['value']\n",
    "exp_homo=paramDict['exp_homo']['value']\n",
    "shape_death=paramDict['shape_death']['value']\n",
    "result=Candidate(basal_M,basal_sd,exp_m,exp_sd,basal_homo,exp_homo,shape_death,SocialSecurity[keycolumn])\n",
    "costFunctionList.append(result)\n",
    "print(time.time()-z)"
   ]
  },
  {
   "cell_type": "code",
   "execution_count": 185,
   "metadata": {},
   "outputs": [
    {
     "name": "stdout",
     "output_type": "stream",
     "text": [
      "439.84002470970154\n",
      "[7.114719855100011, 2.421496640900002, 17.56277314850002, 2.335138082900001, 3.3715856104999973, 6.3392481144000135, 2.8088855502999994, 2.4943098514999993, 3.2578077540999995]\n"
     ]
    }
   ],
   "source": [
    "parameters=[v['value'] for v in paramDict.values()]\n",
    "\n",
    "parameters.append(target)\n",
    "learningRate=0.2\n",
    "start_time = time.time()\n",
    "costFunctionList=[]\n",
    "#dummy parameters:\n",
    "\n",
    "\n",
    "for i in range(1,10):\n",
    "\n",
    "    count=0\n",
    "\n",
    "    a=time.time()\n",
    "    for k,v in paramDict.items():\n",
    "\n",
    "        paramDict[k]['deriv']=partial_derivative(Candidate,count,parameters)\n",
    "        #print('deriv time:{}'.format(time.time()-a))\n",
    "        count=count+1\n",
    "    #to normalise the derivatives\n",
    "    \n",
    "    #mean=st.mean([v['deriv'] for v in paramDict.values()])\n",
    "    std=st.stdev([v['deriv'] for v in paramDict.values()])\n",
    "    #print('calculate std:{}'.format(time.time()-a))\n",
    "    #update parameters with gradient\n",
    "    for k,v in paramDict.items():\n",
    "        v['value']=v['value']-learningRate*v['deriv']/std\n",
    "        if k in ['basal_homo','exp_homo']:\n",
    "            if v['value']>1:\n",
    "                v['value']=0.99\n",
    "            if v['value']<0:\n",
    "                v['value']=0.01\n",
    "       \n",
    "        if k in ['exp_sd','basal_sd']:\n",
    "            if v['value']<0.001:\n",
    "                v['value']=0.01\n",
    "               \n",
    "    parameters=[v['value'] for v in paramDict.values()]    \n",
    "    target=SocialSecurity[keycolumn]\n",
    "    parameters.append(target)\n",
    "    #recalculate the cost function    \n",
    "    basal_M=paramDict['basal_M']['value']\n",
    "    basal_sd=paramDict['basal_sd']['value']\n",
    "    exp_m=paramDict['basal_M']['value']\n",
    "    exp_sd=paramDict['exp_sd']['value']\n",
    "    basal_homo=paramDict['basal_homo']['value']\n",
    "    exp_homo=paramDict['exp_homo']['value']\n",
    "    shape_death=paramDict['shape_death']['value']\n",
    "    result=Candidate(basal_M,basal_sd,exp_m,exp_sd,basal_homo,exp_homo,shape_death,SocialSecurity[keycolumn])\n",
    "    costFunctionList.append(result) \n",
    "\n",
    "\n",
    "print(time.time()-start_time)\n",
    "print(costFunctionList)"
   ]
  },
  {
   "cell_type": "code",
   "execution_count": 176,
   "metadata": {},
   "outputs": [],
   "source": [
    "listofList.append(costFunctionList)"
   ]
  },
  {
   "cell_type": "code",
   "execution_count": 177,
   "metadata": {},
   "outputs": [
    {
     "data": {
      "text/plain": [
       "6.270604530136093"
      ]
     },
     "execution_count": 177,
     "metadata": {},
     "output_type": "execute_result"
    }
   ],
   "source": [
    "st.stdev([v['value'] for v in paramDict.values()])"
   ]
  },
  {
   "cell_type": "code",
   "execution_count": 178,
   "metadata": {},
   "outputs": [
    {
     "name": "stdout",
     "output_type": "stream",
     "text": [
      "basal_M\n",
      "-0.9746615691034821\n",
      "-12.152704412793213\n",
      "basal_sd\n",
      "1.3923863393362568\n",
      "0.023108073314677458\n",
      "exp_m\n",
      "-0.14332194598183828\n",
      "-12.743786059720122\n",
      "exp_sd\n",
      "-0.922084284027877\n",
      "2.232982938778739\n",
      "basal_homo\n",
      "1.4537544364061583\n",
      "0.6910948378308521\n",
      "exp_homo\n",
      "-0.3930505069556939\n",
      "0.08861010139113877\n",
      "shape_death\n",
      "0.10392194835403556\n",
      "-3.5550619956993033\n"
     ]
    }
   ],
   "source": [
    "for k,v in paramDict.items():\n",
    "    print(k)\n",
    "    #v['value']=v['value']-0.5*v['deriv']/std\n",
    "    print(v['deriv']/std)\n",
    "    print(v['value'])"
   ]
  },
  {
   "cell_type": "code",
   "execution_count": 179,
   "metadata": {},
   "outputs": [],
   "source": [
    "# basal_M=-12.215002187473717\n",
    "# basal_sd=1.4418319946002272\n",
    "# exp_m=-13.146868861803693\n",
    "# exp_sd=1.666056723437536\n",
    "# basal_homo=0.601989094109626\n",
    "# exp_homo=0.01\n",
    "# shape_death=-1.186068515502764\n",
    "result,ad=Candidate2(basal_M,basal_sd,exp_m,exp_sd,basal_homo,exp_homo,shape_death,SocialSecurity[keycolumn])\n",
    "#costFunctionList.append(result)\n",
    "    "
   ]
  },
  {
   "cell_type": "code",
   "execution_count": 167,
   "metadata": {},
   "outputs": [],
   "source": [
    "with open(\"currentLousyBest.json\",\"w\") as f:\n",
    "    json.dump(paramDict,f)"
   ]
  },
  {
   "cell_type": "code",
   "execution_count": 180,
   "metadata": {},
   "outputs": [],
   "source": [
    "DeathCurve = pd.Series(ad).value_counts(sort=False)/250\n",
    "\n"
   ]
  },
  {
   "cell_type": "code",
   "execution_count": null,
   "metadata": {},
   "outputs": [],
   "source": []
  }
 ],
 "metadata": {
  "kernelspec": {
   "display_name": "Python 3",
   "language": "python",
   "name": "python3"
  },
  "language_info": {
   "codemirror_mode": {
    "name": "ipython",
    "version": 3
   },
   "file_extension": ".py",
   "mimetype": "text/x-python",
   "name": "python",
   "nbconvert_exporter": "python",
   "pygments_lexer": "ipython3",
   "version": "3.7.3"
  }
 },
 "nbformat": 4,
 "nbformat_minor": 2
}
